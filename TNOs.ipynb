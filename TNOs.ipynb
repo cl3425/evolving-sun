{
 "cells": [
  {
   "cell_type": "code",
   "execution_count": 62,
   "metadata": {},
   "outputs": [
    {
     "data": {
      "text/html": [
       "<div>\n",
       "<style scoped>\n",
       "    .dataframe tbody tr th:only-of-type {\n",
       "        vertical-align: middle;\n",
       "    }\n",
       "\n",
       "    .dataframe tbody tr th {\n",
       "        vertical-align: top;\n",
       "    }\n",
       "\n",
       "    .dataframe thead th {\n",
       "        text-align: right;\n",
       "    }\n",
       "</style>\n",
       "<table border=\"1\" class=\"dataframe\">\n",
       "  <thead>\n",
       "    <tr style=\"text-align: right;\">\n",
       "      <th></th>\n",
       "      <th>M</th>\n",
       "      <th>Peri.</th>\n",
       "      <th>Node</th>\n",
       "      <th>Incl.</th>\n",
       "      <th>e</th>\n",
       "      <th>a</th>\n",
       "    </tr>\n",
       "  </thead>\n",
       "  <tbody>\n",
       "    <tr>\n",
       "      <th>0</th>\n",
       "      <td>249.1</td>\n",
       "      <td>215.8</td>\n",
       "      <td>218.5</td>\n",
       "      <td>13.7</td>\n",
       "      <td>0.209</td>\n",
       "      <td>39.5</td>\n",
       "    </tr>\n",
       "    <tr>\n",
       "      <th>1</th>\n",
       "      <td>202.0</td>\n",
       "      <td>318.7</td>\n",
       "      <td>31.1</td>\n",
       "      <td>8.2</td>\n",
       "      <td>0.233</td>\n",
       "      <td>46.7</td>\n",
       "    </tr>\n",
       "    <tr>\n",
       "      <th>2</th>\n",
       "      <td>239.7</td>\n",
       "      <td>218.0</td>\n",
       "      <td>124.0</td>\n",
       "      <td>15.2</td>\n",
       "      <td>0.148</td>\n",
       "      <td>47.9</td>\n",
       "    </tr>\n",
       "    <tr>\n",
       "      <th>3</th>\n",
       "      <td>6.0</td>\n",
       "      <td>135.4</td>\n",
       "      <td>353.2</td>\n",
       "      <td>15.2</td>\n",
       "      <td>0.224</td>\n",
       "      <td>47.7</td>\n",
       "    </tr>\n",
       "    <tr>\n",
       "      <th>4</th>\n",
       "      <td>28.9</td>\n",
       "      <td>44.8</td>\n",
       "      <td>58.3</td>\n",
       "      <td>10.2</td>\n",
       "      <td>0.078</td>\n",
       "      <td>44.4</td>\n",
       "    </tr>\n",
       "  </tbody>\n",
       "</table>\n",
       "</div>"
      ],
      "text/plain": [
       "       M  Peri.   Node  Incl.      e     a\n",
       "0  249.1  215.8  218.5   13.7  0.209  39.5\n",
       "1  202.0  318.7   31.1    8.2  0.233  46.7\n",
       "2  239.7  218.0  124.0   15.2  0.148  47.9\n",
       "3    6.0  135.4  353.2   15.2  0.224  47.7\n",
       "4   28.9   44.8   58.3   10.2  0.078  44.4"
      ]
     },
     "execution_count": 62,
     "metadata": {},
     "output_type": "execute_result"
    }
   ],
   "source": [
    "%matplotlib inline\n",
    "import matplotlib.pyplot as plt\n",
    "import numpy as np\n",
    "import pandas as pd\n",
    "import rebound\n",
    "import reboundx\n",
    "import matplotlib.pyplot as plt\n",
    "import time\n",
    "\n",
    "# TNOs, Centaurs, and SDOs: https://www.minorplanetcenter.net/iau/MPCORB/Distant.txt\n",
    "# TNOs only: https://minorplanetcenter.net/iau/lists/TNOs.html\n",
    "\n",
    "# cat TNOs.txt | cut -c 93- | cut -c -16 > lite_TNOs.txt for inc, e, and a only\n",
    "# cat TNOs.txt | cut -c 73- | cut -c -36 > lite_TNOs.txt for all six orbital elements\n",
    "tnos = pd.read_csv('lite_TNOs.txt',delim_whitespace=True)\n",
    "tnos.head()"
   ]
  },
  {
   "cell_type": "code",
   "execution_count": null,
   "metadata": {},
   "outputs": [],
   "source": [
    "def plot_particles():\n",
    "    fig, (ax1, ax2) = plt.subplots(nrows=1, ncols=2, figsize=(15,5))\n",
    "    ax1.scatter(xs[0:4], ys[0:4])\n",
    "    ax1.scatter(xs[5:], ys[5:])\n",
    "ax1.set_aspect('equal')\n",
    "ax1.set_title('Top-down view')\n",
    "ax2.scatter(xs[0:4], zs[0:4])\n",
    "ax2.scatter(xs[5:], zs[5:])\n",
    "ax2.set_ylim(ax2.get_xlim())\n",
    "ax2.set_title('Edge-on view')\n",
    "plt.show()"
   ]
  },
  {
   "cell_type": "code",
   "execution_count": 63,
   "metadata": {},
   "outputs": [
    {
     "name": "stdout",
     "output_type": "stream",
     "text": [
      "6.283185307179586 0.0\n",
      "6.281439977927592 0.0017453292519943296\n",
      "6.272713331667619 0.0017453292519943296\n",
      "0.9459684545809266 0.0017453292519943296\n",
      "0.44 0.0\n",
      "49.7 32.0\n"
     ]
    }
   ],
   "source": [
    "# basic stats on TNOs\n",
    "print(max(tnos[\"M\"]*np.pi/180), min(tnos[\"M\"]*np.pi/180))\n",
    "print(max(tnos[\"Peri.\"]*np.pi/180), min(tnos[\"Peri.\"]*np.pi/180))\n",
    "print(max(tnos[\"Node\"]*np.pi/180), min(tnos[\"Node\"]*np.pi/180))\n",
    "print(max(tnos[\"Incl.\"]*np.pi/180), min(tnos[\"Incl.\"]*np.pi/180))\n",
    "print(max(tnos[\"e\"]), min(tnos[\"e\"]))\n",
    "print(max(tnos[\"a\"]), min(tnos[\"a\"]))\n"
   ]
  },
  {
   "cell_type": "code",
   "execution_count": 64,
   "metadata": {},
   "outputs": [],
   "source": [
    "# convert from a to P with Newtonian version of Kepler's 3rd Law\n",
    "def a_to_P(a,G,mA,mB):\n",
    "    return ((a**3)*4*((np.pi)**2)/(G*(mA+mB)))**(1./2)"
   ]
  },
  {
   "cell_type": "code",
   "execution_count": 65,
   "metadata": {},
   "outputs": [],
   "source": [
    "# instantiate simulation\n",
    "sim = rebound.Simulation()\n",
    "rebound.G = 6.674e-11 # SI units\n",
    "AU = 1.5e11 # in m\n",
    "sim.integrator = \"whfast\" # as opposed to IAS15\n",
    "sim.units = ('m', 's', 'kg')\n",
    "#sim.dt = 1e10 # At ~100 AU, orbital periods ~1000 yrs, so use a timestep of 0.1% of that, in sec., ie. third of a year\n",
    "sim.dt = 0.01 * a_to_P(4.49506e12, rebound.G, 1.99e30, 1.024e26) # 1/100 period of Neputune, or on order of an Earth year\n",
    "sim.N_active = 1 # Make it so dust particles don't interact with one another gravitationally\n",
    "beta = 0.1\n",
    "\n",
    "# Sun and gas giants\n",
    "sim.add(m=1.99e30) # add Sun with mass in kg\n",
    "sim.add(m=1.898e27, a=7.7857e11, e=4.89e-2) # add Jupiter\n",
    "sim.add(m=5.683e26, a=1.43353e12, e=5.65e-2) # add Saturn\n",
    "sim.add(m=8.681e25, a=2.87246e12, e=4.6381e-2) # add Uranus\n",
    "sim.add(m=1.024e26, a=4.49506e12, e=9.456e-3) # add Neptune"
   ]
  },
  {
   "cell_type": "code",
   "execution_count": 49,
   "metadata": {},
   "outputs": [],
   "source": [
    "# add radiation forces with ReboundX\n",
    "rebx = reboundx.Extras(sim)\n",
    "rf = rebx.load_force(\"radiation_forces\") # set forces\n",
    "rebx.add_force(rf)\n",
    "rf.params[\"c\"] = 3.e8 # set forces to speed of light\n",
    "ps[0].params[\"radiation_source\"] = 1 # reindex radiation source from 0 vector to first particle\n",
    "beta = 0.1 # set ratio of radiation force to gravitational force\n",
    "#for i in range(sim.N):\n",
    "#    ps[i].beta = beta"
   ]
  },
  {
   "cell_type": "code",
   "execution_count": 50,
   "metadata": {},
   "outputs": [],
   "source": [
    "# add mass loss with ReboundX\n",
    "mm = rebx.load_operator(\"modify_mass\")\n",
    "rebx.add_operator(mm)\n",
    "#ps[0].params[\"tau_mass\"] = (-1e7)*365*24*3600\n",
    "ps[0].params[\"tau_mass\"] = -1.e4"
   ]
  },
  {
   "cell_type": "code",
   "execution_count": 67,
   "metadata": {},
   "outputs": [],
   "source": [
    "# TNOs\n",
    "for row in range(len(tnos) - 1800):\n",
    "    # set orbital parameters\n",
    "    M = tnos.iloc()[row][0]*np.pi/180 # mean anomaly...without the epoch?\n",
    "    omega = tnos.iloc()[row][1]*np.pi/180 # arg of pericenter/perihelion\n",
    "    Omega = tnos.iloc()[row][2]*np.pi/180 # longitude of ascending node\n",
    "    inc = tnos.iloc()[row][3]*np.pi/180 \n",
    "    e = tnos.iloc()[row][4]\n",
    "    a = tnos.iloc()[row][5]*AU\n",
    "    \n",
    "    # add object\n",
    "    sim.add(inc=inc,e=e,a=a,omega=omega,Omega=Omega,M=M)\n",
    "    \n",
    "    # add beta property to each KBO object\n",
    "    sim.particles[row].beta = beta\n",
    "\n",
    "# add radiation forces with ReboundX\n",
    "rebx = reboundx.Extras(sim)\n",
    "rf = rebx.load_force(\"radiation_forces\") # set forces\n",
    "rebx.add_force(rf)\n",
    "rf.params[\"c\"] = 3.e8 # set forces to speed of light\n",
    "ps[0].params[\"radiation_source\"] = 1 # reindex radiation source from 0 vector to first particle\n",
    "beta = 0.1 # set ratio of radiation force to gravitational force\n",
    "\n",
    "# add mass loss with ReboundX\n",
    "mm = rebx.load_operator(\"modify_mass\")\n",
    "rebx.add_operator(mm)\n",
    "\n",
    "#sim.convert_particle_units('AU', 'yr', 'Msun')\n",
    "ps = sim.particles\n",
    "ps[0].params[\"radiation_source\"] = 1 # reindex radiation source from 0 vector to first particle\n",
    "ps[0].params[\"tau_mass\"] = -1.e4"
   ]
  },
  {
   "cell_type": "code",
   "execution_count": 52,
   "metadata": {},
   "outputs": [],
   "source": [
    "# for backwards integration, set velocitiy components to opposite signs for each particle\n",
    "#for p in ps:\n",
    "#    p.vx = -p.vx\n",
    "#    p.vy = -p.vy\n",
    "#    p.vz = -p.vz"
   ]
  },
  {
   "cell_type": "code",
   "execution_count": 68,
   "metadata": {},
   "outputs": [
    {
     "name": "stdout",
     "output_type": "stream",
     "text": [
      "140\n"
     ]
    },
    {
     "data": {
      "image/png": "[encoded data removed]",
      "text/plain": [
       "<Figure size 1080x360 with 2 Axes>"
      ]
     },
     "metadata": {
      "needs_background": "light"
     },
     "output_type": "display_data"
    }
   ],
   "source": [
    "# plot initialized objects\n",
    "xs = [ps[i].x for i in range(sim.N)]\n",
    "ys = [ps[i].y for i in range(sim.N)]\n",
    "zs = [ps[i].z for i in range(sim.N)]\n",
    "print(len(xs))\n",
    "\n",
    "%matplotlib inline\n",
    "import matplotlib.pyplot as plt\n",
    "fig, (ax1, ax2) = plt.subplots(nrows=1, ncols=2, figsize=(15,5))\n",
    "ax1.scatter(xs[0:4], ys[0:4])\n",
    "ax1.scatter(xs[5:], ys[5:])\n",
    "ax1.set_aspect('equal')\n",
    "ax1.set_title('Top-down view')\n",
    "ax2.scatter(xs[0:4], zs[0:4])\n",
    "ax2.scatter(xs[5:], zs[5:])\n",
    "ax2.set_ylim(ax2.get_xlim())\n",
    "ax2.set_title('Edge-on view')\n",
    "plt.show()"
   ]
  },
  {
   "cell_type": "code",
   "execution_count": 61,
   "metadata": {},
   "outputs": [
    {
     "name": "stdout",
     "output_type": "stream",
     "text": [
      "<rebound.Particle object, m=nan x=nan y=nan z=nan vx=nan vy=nan vz=nan>\n",
      "<rebound.Particle object, m=1.898e+27 x=nan y=nan z=nan vx=nan vy=nan vz=nan>\n",
      "<rebound.Particle object, m=5.683e+26 x=nan y=nan z=nan vx=nan vy=nan vz=nan>\n",
      "<rebound.Particle object, m=8.681e+25 x=nan y=nan z=nan vx=nan vy=nan vz=nan>\n",
      "<rebound.Particle object, m=1.024e+26 x=nan y=nan z=nan vx=nan vy=nan vz=nan>\n",
      "<rebound.Particle object, m=0.0 x=nan y=nan z=nan vx=nan vy=nan vz=nan>\n",
      "<rebound.Particle object, m=0.0 x=nan y=nan z=nan vx=nan vy=nan vz=nan>\n",
      "<rebound.Particle object, m=0.0 x=nan y=nan z=nan vx=nan vy=nan vz=nan>\n",
      "<rebound.Particle object, m=0.0 x=nan y=nan z=nan vx=nan vy=nan vz=nan>\n",
      "<rebound.Particle object, m=0.0 x=nan y=nan z=nan vx=nan vy=nan vz=nan>\n",
      "<rebound.Particle object, m=0.0 x=nan y=nan z=nan vx=nan vy=nan vz=nan>\n",
      "<rebound.Particle object, m=0.0 x=nan y=nan z=nan vx=nan vy=nan vz=nan>\n",
      "<rebound.Particle object, m=0.0 x=nan y=nan z=nan vx=nan vy=nan vz=nan>\n",
      "<rebound.Particle object, m=0.0 x=nan y=nan z=nan vx=nan vy=nan vz=nan>\n",
      "<rebound.Particle object, m=0.0 x=nan y=nan z=nan vx=nan vy=nan vz=nan>\n",
      "<rebound.Particle object, m=0.0 x=nan y=nan z=nan vx=nan vy=nan vz=nan>\n",
      "<rebound.Particle object, m=0.0 x=nan y=nan z=nan vx=nan vy=nan vz=nan>\n",
      "<rebound.Particle object, m=0.0 x=nan y=nan z=nan vx=nan vy=nan vz=nan>\n",
      "<rebound.Particle object, m=0.0 x=nan y=nan z=nan vx=nan vy=nan vz=nan>\n",
      "<rebound.Particle object, m=0.0 x=nan y=nan z=nan vx=nan vy=nan vz=nan>\n",
      "<rebound.Particle object, m=0.0 x=nan y=nan z=nan vx=nan vy=nan vz=nan>\n",
      "<rebound.Particle object, m=0.0 x=nan y=nan z=nan vx=nan vy=nan vz=nan>\n",
      "<rebound.Particle object, m=0.0 x=nan y=nan z=nan vx=nan vy=nan vz=nan>\n",
      "<rebound.Particle object, m=0.0 x=nan y=nan z=nan vx=nan vy=nan vz=nan>\n",
      "<rebound.Particle object, m=0.0 x=nan y=nan z=nan vx=nan vy=nan vz=nan>\n",
      "<rebound.Particle object, m=0.0 x=nan y=nan z=nan vx=nan vy=nan vz=nan>\n",
      "<rebound.Particle object, m=0.0 x=nan y=nan z=nan vx=nan vy=nan vz=nan>\n",
      "<rebound.Particle object, m=0.0 x=nan y=nan z=nan vx=nan vy=nan vz=nan>\n",
      "<rebound.Particle object, m=0.0 x=nan y=nan z=nan vx=nan vy=nan vz=nan>\n",
      "<rebound.Particle object, m=0.0 x=nan y=nan z=nan vx=nan vy=nan vz=nan>\n",
      "<rebound.Particle object, m=0.0 x=nan y=nan z=nan vx=nan vy=nan vz=nan>\n",
      "<rebound.Particle object, m=0.0 x=nan y=nan z=nan vx=nan vy=nan vz=nan>\n",
      "<rebound.Particle object, m=0.0 x=nan y=nan z=nan vx=nan vy=nan vz=nan>\n",
      "<rebound.Particle object, m=0.0 x=nan y=nan z=nan vx=nan vy=nan vz=nan>\n",
      "<rebound.Particle object, m=0.0 x=nan y=nan z=nan vx=nan vy=nan vz=nan>\n",
      "<rebound.Particle object, m=0.0 x=nan y=nan z=nan vx=nan vy=nan vz=nan>\n",
      "<rebound.Particle object, m=0.0 x=nan y=nan z=nan vx=nan vy=nan vz=nan>\n",
      "<rebound.Particle object, m=0.0 x=nan y=nan z=nan vx=nan vy=nan vz=nan>\n",
      "<rebound.Particle object, m=0.0 x=nan y=nan z=nan vx=nan vy=nan vz=nan>\n",
      "<rebound.Particle object, m=0.0 x=nan y=nan z=nan vx=nan vy=nan vz=nan>\n",
      "<rebound.Particle object, m=0.0 x=nan y=nan z=nan vx=nan vy=nan vz=nan>\n",
      "<rebound.Particle object, m=0.0 x=nan y=nan z=nan vx=nan vy=nan vz=nan>\n",
      "<rebound.Particle object, m=0.0 x=nan y=nan z=nan vx=nan vy=nan vz=nan>\n",
      "<rebound.Particle object, m=0.0 x=nan y=nan z=nan vx=nan vy=nan vz=nan>\n",
      "<rebound.Particle object, m=0.0 x=nan y=nan z=nan vx=nan vy=nan vz=nan>\n",
      "<rebound.Particle object, m=0.0 x=nan y=nan z=nan vx=nan vy=nan vz=nan>\n",
      "<rebound.Particle object, m=0.0 x=nan y=nan z=nan vx=nan vy=nan vz=nan>\n",
      "<rebound.Particle object, m=0.0 x=nan y=nan z=nan vx=nan vy=nan vz=nan>\n",
      "<rebound.Particle object, m=0.0 x=nan y=nan z=nan vx=nan vy=nan vz=nan>\n",
      "<rebound.Particle object, m=0.0 x=nan y=nan z=nan vx=nan vy=nan vz=nan>\n",
      "<rebound.Particle object, m=0.0 x=nan y=nan z=nan vx=nan vy=nan vz=nan>\n",
      "<rebound.Particle object, m=0.0 x=nan y=nan z=nan vx=nan vy=nan vz=nan>\n",
      "<rebound.Particle object, m=0.0 x=nan y=nan z=nan vx=nan vy=nan vz=nan>\n",
      "<rebound.Particle object, m=0.0 x=nan y=nan z=nan vx=nan vy=nan vz=nan>\n",
      "<rebound.Particle object, m=0.0 x=nan y=nan z=nan vx=nan vy=nan vz=nan>\n",
      "<rebound.Particle object, m=0.0 x=nan y=nan z=nan vx=nan vy=nan vz=nan>\n",
      "<rebound.Particle object, m=0.0 x=nan y=nan z=nan vx=nan vy=nan vz=nan>\n",
      "<rebound.Particle object, m=0.0 x=nan y=nan z=nan vx=nan vy=nan vz=nan>\n",
      "<rebound.Particle object, m=0.0 x=nan y=nan z=nan vx=nan vy=nan vz=nan>\n",
      "<rebound.Particle object, m=0.0 x=nan y=nan z=nan vx=nan vy=nan vz=nan>\n",
      "<rebound.Particle object, m=0.0 x=nan y=nan z=nan vx=nan vy=nan vz=nan>\n",
      "<rebound.Particle object, m=0.0 x=nan y=nan z=nan vx=nan vy=nan vz=nan>\n",
      "<rebound.Particle object, m=0.0 x=nan y=nan z=nan vx=nan vy=nan vz=nan>\n",
      "<rebound.Particle object, m=0.0 x=nan y=nan z=nan vx=nan vy=nan vz=nan>\n",
      "<rebound.Particle object, m=0.0 x=nan y=nan z=nan vx=nan vy=nan vz=nan>\n",
      "<rebound.Particle object, m=0.0 x=nan y=nan z=nan vx=nan vy=nan vz=nan>\n",
      "<rebound.Particle object, m=0.0 x=nan y=nan z=nan vx=nan vy=nan vz=nan>\n",
      "<rebound.Particle object, m=0.0 x=nan y=nan z=nan vx=nan vy=nan vz=nan>\n",
      "<rebound.Particle object, m=0.0 x=nan y=nan z=nan vx=nan vy=nan vz=nan>\n",
      "<rebound.Particle object, m=0.0 x=nan y=nan z=nan vx=nan vy=nan vz=nan>\n",
      "<rebound.Particle object, m=0.0 x=nan y=nan z=nan vx=nan vy=nan vz=nan>\n",
      "<rebound.Particle object, m=0.0 x=nan y=nan z=nan vx=nan vy=nan vz=nan>\n",
      "<rebound.Particle object, m=0.0 x=nan y=nan z=nan vx=nan vy=nan vz=nan>\n",
      "<rebound.Particle object, m=0.0 x=nan y=nan z=nan vx=nan vy=nan vz=nan>\n",
      "<rebound.Particle object, m=0.0 x=nan y=nan z=nan vx=nan vy=nan vz=nan>\n",
      "<rebound.Particle object, m=0.0 x=nan y=nan z=nan vx=nan vy=nan vz=nan>\n",
      "<rebound.Particle object, m=0.0 x=nan y=nan z=nan vx=nan vy=nan vz=nan>\n",
      "<rebound.Particle object, m=0.0 x=nan y=nan z=nan vx=nan vy=nan vz=nan>\n",
      "<rebound.Particle object, m=0.0 x=nan y=nan z=nan vx=nan vy=nan vz=nan>\n",
      "<rebound.Particle object, m=0.0 x=nan y=nan z=nan vx=nan vy=nan vz=nan>\n",
      "<rebound.Particle object, m=0.0 x=nan y=nan z=nan vx=nan vy=nan vz=nan>\n",
      "<rebound.Particle object, m=0.0 x=nan y=nan z=nan vx=nan vy=nan vz=nan>\n",
      "<rebound.Particle object, m=0.0 x=nan y=nan z=nan vx=nan vy=nan vz=nan>\n",
      "<rebound.Particle object, m=0.0 x=nan y=nan z=nan vx=nan vy=nan vz=nan>\n",
      "<rebound.Particle object, m=0.0 x=nan y=nan z=nan vx=nan vy=nan vz=nan>\n",
      "<rebound.Particle object, m=0.0 x=nan y=nan z=nan vx=nan vy=nan vz=nan>\n",
      "<rebound.Particle object, m=0.0 x=nan y=nan z=nan vx=nan vy=nan vz=nan>\n",
      "<rebound.Particle object, m=0.0 x=nan y=nan z=nan vx=nan vy=nan vz=nan>\n",
      "<rebound.Particle object, m=0.0 x=nan y=nan z=nan vx=nan vy=nan vz=nan>\n",
      "<rebound.Particle object, m=0.0 x=nan y=nan z=nan vx=nan vy=nan vz=nan>\n",
      "<rebound.Particle object, m=0.0 x=nan y=nan z=nan vx=nan vy=nan vz=nan>\n",
      "<rebound.Particle object, m=0.0 x=nan y=nan z=nan vx=nan vy=nan vz=nan>\n",
      "<rebound.Particle object, m=0.0 x=nan y=nan z=nan vx=nan vy=nan vz=nan>\n",
      "<rebound.Particle object, m=0.0 x=nan y=nan z=nan vx=nan vy=nan vz=nan>\n",
      "<rebound.Particle object, m=0.0 x=nan y=nan z=nan vx=nan vy=nan vz=nan>\n",
      "<rebound.Particle object, m=0.0 x=nan y=nan z=nan vx=nan vy=nan vz=nan>\n",
      "<rebound.Particle object, m=0.0 x=nan y=nan z=nan vx=nan vy=nan vz=nan>\n",
      "<rebound.Particle object, m=0.0 x=nan y=nan z=nan vx=nan vy=nan vz=nan>\n",
      "<rebound.Particle object, m=0.0 x=nan y=nan z=nan vx=nan vy=nan vz=nan>\n",
      "<rebound.Particle object, m=0.0 x=nan y=nan z=nan vx=nan vy=nan vz=nan>\n",
      "<rebound.Particle object, m=0.0 x=nan y=nan z=nan vx=nan vy=nan vz=nan>\n",
      "<rebound.Particle object, m=0.0 x=nan y=nan z=nan vx=nan vy=nan vz=nan>\n",
      "<rebound.Particle object, m=0.0 x=nan y=nan z=nan vx=nan vy=nan vz=nan>\n",
      "<rebound.Particle object, m=0.0 x=nan y=nan z=nan vx=nan vy=nan vz=nan>\n",
      "<rebound.Particle object, m=0.0 x=nan y=nan z=nan vx=nan vy=nan vz=nan>\n",
      "<rebound.Particle object, m=0.0 x=nan y=nan z=nan vx=nan vy=nan vz=nan>\n",
      "<rebound.Particle object, m=0.0 x=nan y=nan z=nan vx=nan vy=nan vz=nan>\n",
      "<rebound.Particle object, m=0.0 x=nan y=nan z=nan vx=nan vy=nan vz=nan>\n",
      "<rebound.Particle object, m=0.0 x=nan y=nan z=nan vx=nan vy=nan vz=nan>\n",
      "<rebound.Particle object, m=0.0 x=nan y=nan z=nan vx=nan vy=nan vz=nan>\n",
      "<rebound.Particle object, m=0.0 x=nan y=nan z=nan vx=nan vy=nan vz=nan>\n",
      "<rebound.Particle object, m=0.0 x=nan y=nan z=nan vx=nan vy=nan vz=nan>\n",
      "<rebound.Particle object, m=0.0 x=nan y=nan z=nan vx=nan vy=nan vz=nan>\n",
      "<rebound.Particle object, m=0.0 x=nan y=nan z=nan vx=nan vy=nan vz=nan>\n",
      "<rebound.Particle object, m=0.0 x=nan y=nan z=nan vx=nan vy=nan vz=nan>\n",
      "<rebound.Particle object, m=0.0 x=nan y=nan z=nan vx=nan vy=nan vz=nan>\n"
     ]
    },
    {
     "name": "stdout",
     "output_type": "stream",
     "text": [
      "<rebound.Particle object, m=0.0 x=nan y=nan z=nan vx=nan vy=nan vz=nan>\n",
      "<rebound.Particle object, m=0.0 x=nan y=nan z=nan vx=nan vy=nan vz=nan>\n",
      "<rebound.Particle object, m=0.0 x=nan y=nan z=nan vx=nan vy=nan vz=nan>\n",
      "<rebound.Particle object, m=0.0 x=nan y=nan z=nan vx=nan vy=nan vz=nan>\n",
      "<rebound.Particle object, m=0.0 x=nan y=nan z=nan vx=nan vy=nan vz=nan>\n",
      "<rebound.Particle object, m=0.0 x=nan y=nan z=nan vx=nan vy=nan vz=nan>\n",
      "<rebound.Particle object, m=0.0 x=nan y=nan z=nan vx=nan vy=nan vz=nan>\n",
      "<rebound.Particle object, m=0.0 x=nan y=nan z=nan vx=nan vy=nan vz=nan>\n",
      "<rebound.Particle object, m=0.0 x=nan y=nan z=nan vx=nan vy=nan vz=nan>\n",
      "<rebound.Particle object, m=0.0 x=nan y=nan z=nan vx=nan vy=nan vz=nan>\n",
      "<rebound.Particle object, m=0.0 x=nan y=nan z=nan vx=nan vy=nan vz=nan>\n",
      "<rebound.Particle object, m=0.0 x=nan y=nan z=nan vx=nan vy=nan vz=nan>\n",
      "<rebound.Particle object, m=0.0 x=nan y=nan z=nan vx=nan vy=nan vz=nan>\n",
      "<rebound.Particle object, m=0.0 x=nan y=nan z=nan vx=nan vy=nan vz=nan>\n",
      "<rebound.Particle object, m=0.0 x=nan y=nan z=nan vx=nan vy=nan vz=nan>\n",
      "<rebound.Particle object, m=0.0 x=nan y=nan z=nan vx=nan vy=nan vz=nan>\n",
      "<rebound.Particle object, m=0.0 x=nan y=nan z=nan vx=nan vy=nan vz=nan>\n",
      "<rebound.Particle object, m=0.0 x=nan y=nan z=nan vx=nan vy=nan vz=nan>\n",
      "<rebound.Particle object, m=0.0 x=nan y=nan z=nan vx=nan vy=nan vz=nan>\n",
      "<rebound.Particle object, m=0.0 x=nan y=nan z=nan vx=nan vy=nan vz=nan>\n",
      "<rebound.Particle object, m=0.0 x=nan y=nan z=nan vx=nan vy=nan vz=nan>\n",
      "<rebound.Particle object, m=0.0 x=nan y=nan z=nan vx=nan vy=nan vz=nan>\n",
      "<rebound.Particle object, m=0.0 x=nan y=nan z=nan vx=nan vy=nan vz=nan>\n"
     ]
    },
    {
     "ename": "AttributeError",
     "evalue": "Index 139 used to access particles out of range.",
     "output_type": "error",
     "traceback": [
      "\u001b[0;31m---------------------------------------------------------------------------\u001b[0m",
      "\u001b[0;31mAttributeError\u001b[0m                            Traceback (most recent call last)",
      "\u001b[0;32m<ipython-input-61-5af73d00b73e>\u001b[0m in \u001b[0;36m<module>\u001b[0;34m\u001b[0m\n\u001b[1;32m     13\u001b[0m     \u001b[0;32mif\u001b[0m \u001b[0mi\u001b[0m \u001b[0;34m<\u001b[0m \u001b[0;36m136\u001b[0m\u001b[0;34m:\u001b[0m\u001b[0;34m\u001b[0m\u001b[0;34m\u001b[0m\u001b[0m\n\u001b[1;32m     14\u001b[0m         \u001b[0mps\u001b[0m\u001b[0;34m[\u001b[0m\u001b[0mi\u001b[0m\u001b[0;34m]\u001b[0m\u001b[0;34m.\u001b[0m\u001b[0mparams\u001b[0m\u001b[0;34m[\u001b[0m\u001b[0;34m\"beta\"\u001b[0m\u001b[0;34m]\u001b[0m \u001b[0;34m=\u001b[0m \u001b[0mbeta\u001b[0m\u001b[0;34m\u001b[0m\u001b[0;34m\u001b[0m\u001b[0m\n\u001b[0;32m---> 15\u001b[0;31m     \u001b[0mprint\u001b[0m\u001b[0;34m(\u001b[0m\u001b[0mps\u001b[0m\u001b[0;34m[\u001b[0m\u001b[0mi\u001b[0m\u001b[0;34m]\u001b[0m\u001b[0;34m)\u001b[0m\u001b[0;34m\u001b[0m\u001b[0;34m\u001b[0m\u001b[0m\n\u001b[0m\u001b[1;32m     16\u001b[0m \u001b[0;34m\u001b[0m\u001b[0m\n\u001b[1;32m     17\u001b[0m \u001b[0mfig\u001b[0m \u001b[0;34m=\u001b[0m \u001b[0mrebound\u001b[0m\u001b[0;34m.\u001b[0m\u001b[0mOrbitPlot\u001b[0m\u001b[0;34m(\u001b[0m\u001b[0msim\u001b[0m\u001b[0;34m,\u001b[0m \u001b[0mtrails\u001b[0m\u001b[0;34m=\u001b[0m\u001b[0;32mTrue\u001b[0m\u001b[0;34m)\u001b[0m\u001b[0;34m\u001b[0m\u001b[0;34m\u001b[0m\u001b[0m\n",
      "\u001b[0;32m~/anaconda2/lib/python3.6/site-packages/rebound/simulation.py\u001b[0m in \u001b[0;36m__getitem__\u001b[0;34m(self, key)\u001b[0m\n\u001b[1;32m   2159\u001b[0m                 \u001b[0mkey\u001b[0m \u001b[0;34m+=\u001b[0m \u001b[0mself\u001b[0m\u001b[0;34m.\u001b[0m\u001b[0msim\u001b[0m\u001b[0;34m.\u001b[0m\u001b[0mN\u001b[0m\u001b[0;34m\u001b[0m\u001b[0;34m\u001b[0m\u001b[0m\n\u001b[1;32m   2160\u001b[0m             \u001b[0;32mif\u001b[0m \u001b[0mkey\u001b[0m \u001b[0;34m<\u001b[0m \u001b[0;36m0\u001b[0m \u001b[0;32mor\u001b[0m \u001b[0mkey\u001b[0m \u001b[0;34m>=\u001b[0m \u001b[0mself\u001b[0m\u001b[0;34m.\u001b[0m\u001b[0msim\u001b[0m\u001b[0;34m.\u001b[0m\u001b[0mN\u001b[0m\u001b[0;34m:\u001b[0m\u001b[0;34m\u001b[0m\u001b[0;34m\u001b[0m\u001b[0m\n\u001b[0;32m-> 2161\u001b[0;31m                 \u001b[0;32mraise\u001b[0m \u001b[0mAttributeError\u001b[0m\u001b[0;34m(\u001b[0m\u001b[0;34m\"Index {0} used to access particles out of range.\"\u001b[0m\u001b[0;34m.\u001b[0m\u001b[0mformat\u001b[0m\u001b[0;34m(\u001b[0m\u001b[0mkey\u001b[0m\u001b[0;34m)\u001b[0m\u001b[0;34m)\u001b[0m\u001b[0;34m\u001b[0m\u001b[0;34m\u001b[0m\u001b[0m\n\u001b[0m\u001b[1;32m   2162\u001b[0m             \u001b[0;32mreturn\u001b[0m \u001b[0mself\u001b[0m\u001b[0;34m.\u001b[0m\u001b[0m_ps\u001b[0m\u001b[0;34m[\u001b[0m\u001b[0mkey\u001b[0m\u001b[0;34m]\u001b[0m\u001b[0;34m\u001b[0m\u001b[0;34m\u001b[0m\u001b[0m\n\u001b[1;32m   2163\u001b[0m \u001b[0;34m\u001b[0m\u001b[0m\n",
      "\u001b[0;31mAttributeError\u001b[0m: Index 139 used to access particles out of range."
     ]
    }
   ],
   "source": [
    "start = time.clock()\n",
    "# age of solar system: ~4.571 Gyears, or ~1.44151056e17 seconds\n",
    "# nothing happens til 1e12 seconds, or 30000 years\n",
    "Noutputs = int(1e5)\n",
    "times = np.linspace(0,1e5*a_to_P(4.49506e12, rebound.G, 1.99e30, 1.024e26),Noutputs) # hundred thousand Netpunian orbits\n",
    "a = np.zeros(Noutputs)\n",
    "\n",
    "# integrate\n",
    "sim.move_to_com()\n",
    "for i, t in enumerate(times):\n",
    "    sim.integrate(t)\n",
    "    #a[i] = sim.particles[6].a # track distance for a particle\n",
    "\n",
    "fig = rebound.OrbitPlot(sim, trails=True)\n",
    "\n",
    "end = time.clock()\n",
    "print(end-start)"
   ]
  },
  {
   "cell_type": "code",
   "execution_count": 514,
   "metadata": {},
   "outputs": [
    {
     "data": {
      "text/plain": [
       "10391596.877079729"
      ]
     },
     "execution_count": 514,
     "metadata": {},
     "output_type": "execute_result"
    }
   ],
   "source": [
    "0.002 * a_to_P(4.49506e12, rebound.G, 1.99e30, 1.024e26)"
   ]
  },
  {
   "cell_type": "code",
   "execution_count": 515,
   "metadata": {},
   "outputs": [
    {
     "name": "stdout",
     "output_type": "stream",
     "text": [
      "<rebound.Particle object, m=3.83106456535e+29 x=4925145838.82 y=-13021113295.3 z=0.0 vx=5.52161049873 vy=7.95999130629 vz=0.0>\n"
     ]
    }
   ],
   "source": [
    "print(ps[0])"
   ]
  },
  {
   "cell_type": "code",
   "execution_count": 516,
   "metadata": {},
   "outputs": [
    {
     "data": {
      "text/plain": [
       "5195798438.539865"
      ]
     },
     "execution_count": 516,
     "metadata": {},
     "output_type": "execute_result"
    }
   ],
   "source": [
    "a_to_P(4.49506e12, rebound.G, 1.99e30, 1.024e26)"
   ]
  },
  {
   "cell_type": "code",
   "execution_count": 517,
   "metadata": {},
   "outputs": [
    {
     "data": {
      "text/plain": [
       "-3153600000000.0"
      ]
     },
     "execution_count": 517,
     "metadata": {},
     "output_type": "execute_result"
    }
   ],
   "source": [
    "(-1e5)*365*24*3600"
   ]
  },
  {
   "cell_type": "code",
   "execution_count": 518,
   "metadata": {},
   "outputs": [
    {
     "data": {
      "text/plain": [
       "Text(0.5,1,u'Edge-on view')"
      ]
     },
     "execution_count": 518,
     "metadata": {},
     "output_type": "execute_result"
    },
    {
     "data": {
      "image/png": "[encoded data removed]",
      "text/plain": [
       "<matplotlib.figure.Figure at 0x11935fd90>"
      ]
     },
     "metadata": {},
     "output_type": "display_data"
    }
   ],
   "source": [
    "# plot initialized objects\n",
    "xs = [ps[i].x for i in range(sim.N)]\n",
    "ys = [ps[i].y for i in range(sim.N)]\n",
    "zs = [ps[i].z for i in range(sim.N)]\n",
    "\n",
    "%matplotlib inline\n",
    "import matplotlib.pyplot as plt\n",
    "fig, (ax1, ax2) = plt.subplots(nrows=1, ncols=2, figsize=(15,5))\n",
    "ax1.scatter(xs[0:4], ys[0:4])\n",
    "ax1.scatter(xs[5:], ys[5:])\n",
    "ax1.set_aspect('equal')\n",
    "ax1.set_title('Top-down view')\n",
    "ax2.scatter(xs[0:4], zs[0:4])\n",
    "ax2.scatter(xs[5:], zs[5:])\n",
    "ax2.set_ylim(ax2.get_xlim())\n",
    "ax2.set_title('Edge-on view')"
   ]
  },
  {
   "cell_type": "code",
   "execution_count": 519,
   "metadata": {},
   "outputs": [
    {
     "data": {
      "text/plain": [
       "3.8310645653468966e+29"
      ]
     },
     "execution_count": 519,
     "metadata": {},
     "output_type": "execute_result"
    }
   ],
   "source": [
    "ps[0].m"
   ]
  },
  {
   "cell_type": "code",
   "execution_count": null,
   "metadata": {
    "collapsed": true
   },
   "outputs": [],
   "source": []
  }
 ],
 "metadata": {
  "kernelspec": {
   "display_name": "Python 3",
   "language": "python",
   "name": "python3"
  },
  "language_info": {
   "codemirror_mode": {
    "name": "ipython",
    "version": 3
   },
   "file_extension": ".py",
   "mimetype": "text/x-python",
   "name": "python",
   "nbconvert_exporter": "python",
   "pygments_lexer": "ipython3",
   "version": "3.6.8"
  }
 },
 "nbformat": 4,
 "nbformat_minor": 2
}
